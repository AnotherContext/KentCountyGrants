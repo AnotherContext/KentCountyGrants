{
 "cells": [
  {
   "cell_type": "code",
   "execution_count": 1,
   "metadata": {
    "collapsed": true
   },
   "outputs": [],
   "source": [
    "import pandas as pd\n",
    "import numpy as np\n",
    "import matplotlib as plt\n",
    "import seaborn as sb"
   ]
  },
  {
   "cell_type": "code",
   "execution_count": 105,
   "metadata": {
    "collapsed": false
   },
   "outputs": [],
   "source": [
    "df = pd.read_csv(\"C:\\Users\\Agnieszka\\Documents\\R working files\\Kent Charities\\Grants.csv\")"
   ]
  },
  {
   "cell_type": "code",
   "execution_count": 106,
   "metadata": {
    "collapsed": false
   },
   "outputs": [
    {
     "data": {
      "text/html": [
       "<div style=\"max-height:1000px;max-width:1500px;overflow:auto;\">\n",
       "<table border=\"1\" class=\"dataframe\">\n",
       "  <thead>\n",
       "    <tr style=\"text-align: right;\">\n",
       "      <th></th>\n",
       "      <th>Supplier/Customer Name</th>\n",
       "      <th>Charity Number</th>\n",
       "      <th>Description</th>\n",
       "      <th>Month Paid</th>\n",
       "      <th>Service</th>\n",
       "      <th>Type</th>\n",
       "      <th>Amount</th>\n",
       "      <th>Month</th>\n",
       "    </tr>\n",
       "  </thead>\n",
       "  <tbody>\n",
       "    <tr>\n",
       "      <th>0</th>\n",
       "      <td>8TH DEAL (WINGHAM) SCOUT GROUP</td>\n",
       "      <td>1021930</td>\n",
       "      <td>Community covenant grant CC1017. Wingham Scout...</td>\n",
       "      <td>SEP 14-15</td>\n",
       "      <td>8DY</td>\n",
       "      <td>STRATGIC &amp; CORPORATE SERVICES</td>\n",
       "      <td>1000</td>\n",
       "      <td>SEP</td>\n",
       "    </tr>\n",
       "    <tr>\n",
       "      <th>1</th>\n",
       "      <td>ACTION WITH COMMUNITIES IN RURAL KENT#TN25 5LL</td>\n",
       "      <td>212796</td>\n",
       "      <td>EC11162 GRANT AID APRIL 14 QTR</td>\n",
       "      <td>APR 14-15</td>\n",
       "      <td>8EH</td>\n",
       "      <td>STRATGIC &amp; CORPORATE SERVICES</td>\n",
       "      <td>4000</td>\n",
       "      <td>APR</td>\n",
       "    </tr>\n",
       "    <tr>\n",
       "      <th>2</th>\n",
       "      <td>ACTION WITH COMMUNITIES IN RURAL KENT#TN25 5LL</td>\n",
       "      <td>212796</td>\n",
       "      <td>EC1161 GRANT AID ACRK APRIL 2014QTR</td>\n",
       "      <td>APR 14-15</td>\n",
       "      <td>8EH</td>\n",
       "      <td>STRATGIC &amp; CORPORATE SERVICES</td>\n",
       "      <td>9250</td>\n",
       "      <td>APR</td>\n",
       "    </tr>\n",
       "    <tr>\n",
       "      <th>3</th>\n",
       "      <td>ACTION WITH COMMUNITIES IN RURAL KENT#TN25 5LL</td>\n",
       "      <td>212796</td>\n",
       "      <td>EC11161 GRANT AID ACRK QRT 3</td>\n",
       "      <td>OCT 14-15</td>\n",
       "      <td>8EH</td>\n",
       "      <td>STRATGIC &amp; CORPORATE SERVICES</td>\n",
       "      <td>9250</td>\n",
       "      <td>OCT</td>\n",
       "    </tr>\n",
       "    <tr>\n",
       "      <th>4</th>\n",
       "      <td>ACTION WITH COMMUNITIES IN RURAL KENT#TN25 5LL</td>\n",
       "      <td>212796</td>\n",
       "      <td>EC11162 GRANTAID KARR QTR3</td>\n",
       "      <td>OCT 14-15</td>\n",
       "      <td>8EH</td>\n",
       "      <td>STRATGIC &amp; CORPORATE SERVICES</td>\n",
       "      <td>4000</td>\n",
       "      <td>OCT</td>\n",
       "    </tr>\n",
       "  </tbody>\n",
       "</table>\n",
       "</div>"
      ],
      "text/plain": [
       "                           Supplier/Customer Name Charity Number  \\\n",
       "0                  8TH DEAL (WINGHAM) SCOUT GROUP        1021930   \n",
       "1  ACTION WITH COMMUNITIES IN RURAL KENT#TN25 5LL         212796   \n",
       "2  ACTION WITH COMMUNITIES IN RURAL KENT#TN25 5LL         212796   \n",
       "3  ACTION WITH COMMUNITIES IN RURAL KENT#TN25 5LL         212796   \n",
       "4  ACTION WITH COMMUNITIES IN RURAL KENT#TN25 5LL         212796   \n",
       "\n",
       "                                         Description Month Paid Service  \\\n",
       "0  Community covenant grant CC1017. Wingham Scout...  SEP 14-15     8DY   \n",
       "1                     EC11162 GRANT AID APRIL 14 QTR  APR 14-15     8EH   \n",
       "2                EC1161 GRANT AID ACRK APRIL 2014QTR  APR 14-15     8EH   \n",
       "3                       EC11161 GRANT AID ACRK QRT 3  OCT 14-15     8EH   \n",
       "4                         EC11162 GRANTAID KARR QTR3  OCT 14-15     8EH   \n",
       "\n",
       "                            Type  Amount Month  \n",
       "0  STRATGIC & CORPORATE SERVICES    1000   SEP  \n",
       "1  STRATGIC & CORPORATE SERVICES    4000   APR  \n",
       "2  STRATGIC & CORPORATE SERVICES    9250   APR  \n",
       "3  STRATGIC & CORPORATE SERVICES    9250   OCT  \n",
       "4  STRATGIC & CORPORATE SERVICES    4000   OCT  "
      ]
     },
     "execution_count": 106,
     "metadata": {},
     "output_type": "execute_result"
    }
   ],
   "source": [
    "df.head(5)"
   ]
  },
  {
   "cell_type": "code",
   "execution_count": 112,
   "metadata": {
    "collapsed": false
   },
   "outputs": [],
   "source": [
    "#df.dtypes\n",
    "#converting columns to numeric dtypes if necessary and where possible\n",
    "#df = df.convert_objects(convert_numeric=True)"
   ]
  },
  {
   "cell_type": "code",
   "execution_count": 52,
   "metadata": {
    "collapsed": false
   },
   "outputs": [
    {
     "data": {
      "text/plain": [
       "array(['STRATGIC & CORPORATE SERVICES',\n",
       "       \"EDUCATION & YOUNG PERSON'S SERVICES\",\n",
       "       'GROWTH ENVIRONMENT & TRANSPORT', 'SOCIAL CARE, HEALTH & WELL BEING'], dtype=object)"
      ]
     },
     "execution_count": 52,
     "metadata": {},
     "output_type": "execute_result"
    }
   ],
   "source": [
    "df['Type'].unique()"
   ]
  },
  {
   "cell_type": "code",
   "execution_count": 53,
   "metadata": {
    "collapsed": false
   },
   "outputs": [
    {
     "data": {
      "text/plain": [
       "array(['SEP 14-15', 'APR 14-15', 'OCT 14-15', 'AUG 14-15', 'NOV 14-15',\n",
       "       'JUL 14-15', 'MAY 14-15', 'JUN 14-15', 'DEC 14-15'], dtype=object)"
      ]
     },
     "execution_count": 53,
     "metadata": {},
     "output_type": "execute_result"
    }
   ],
   "source": [
    "df['Month Paid'].unique()"
   ]
  },
  {
   "cell_type": "code",
   "execution_count": 55,
   "metadata": {
    "collapsed": false
   },
   "outputs": [
    {
     "name": "stdout",
     "output_type": "stream",
     "text": [
      "  Month                           Type  Amount\n",
      "0   SEP  STRATGIC & CORPORATE SERVICES    1000\n",
      "1   APR  STRATGIC & CORPORATE SERVICES    4000\n",
      "2   APR  STRATGIC & CORPORATE SERVICES    9250\n",
      "3   OCT  STRATGIC & CORPORATE SERVICES    9250\n",
      "4   OCT  STRATGIC & CORPORATE SERVICES    4000\n"
     ]
    }
   ],
   "source": [
    "#print df[['Month Paid', 'Type', 'Amount']].head()\n",
    "#print '\\n'\n",
    "\n",
    "#Or store in a variable\n",
    "grants = ['Month', 'Type', 'Amount'] \n",
    "print df[grants].head()"
   ]
  },
  {
   "cell_type": "code",
   "execution_count": 107,
   "metadata": {
    "collapsed": false
   },
   "outputs": [
    {
     "data": {
      "text/html": [
       "<div style=\"max-height:1000px;max-width:1500px;overflow:auto;\">\n",
       "<table border=\"1\" class=\"dataframe\">\n",
       "  <thead>\n",
       "    <tr style=\"text-align: right;\">\n",
       "      <th></th>\n",
       "      <th>Amount</th>\n",
       "    </tr>\n",
       "  </thead>\n",
       "  <tbody>\n",
       "    <tr>\n",
       "      <th>count</th>\n",
       "      <td>688.000000</td>\n",
       "    </tr>\n",
       "    <tr>\n",
       "      <th>mean</th>\n",
       "      <td>25243.231105</td>\n",
       "    </tr>\n",
       "    <tr>\n",
       "      <th>std</th>\n",
       "      <td>56536.815515</td>\n",
       "    </tr>\n",
       "    <tr>\n",
       "      <th>min</th>\n",
       "      <td>-219524.000000</td>\n",
       "    </tr>\n",
       "    <tr>\n",
       "      <th>25%</th>\n",
       "      <td>3788.000000</td>\n",
       "    </tr>\n",
       "    <tr>\n",
       "      <th>50%</th>\n",
       "      <td>11244.500000</td>\n",
       "    </tr>\n",
       "    <tr>\n",
       "      <th>75%</th>\n",
       "      <td>26502.000000</td>\n",
       "    </tr>\n",
       "    <tr>\n",
       "      <th>max</th>\n",
       "      <td>545700.000000</td>\n",
       "    </tr>\n",
       "  </tbody>\n",
       "</table>\n",
       "</div>"
      ],
      "text/plain": [
       "              Amount\n",
       "count     688.000000\n",
       "mean    25243.231105\n",
       "std     56536.815515\n",
       "min   -219524.000000\n",
       "25%      3788.000000\n",
       "50%     11244.500000\n",
       "75%     26502.000000\n",
       "max    545700.000000"
      ]
     },
     "execution_count": 107,
     "metadata": {},
     "output_type": "execute_result"
    }
   ],
   "source": [
    "df[grants].describe()"
   ]
  },
  {
   "cell_type": "code",
   "execution_count": 86,
   "metadata": {
    "collapsed": false
   },
   "outputs": [
    {
     "data": {
      "text/plain": [
       "<seaborn.axisgrid.FacetGrid at 0x160e1fb0>"
      ]
     },
     "execution_count": 86,
     "metadata": {},
     "output_type": "execute_result"
    },
    {
     "data": {
      "image/png": "[encoded data removed]",
      "text/plain": [
       "<matplotlib.figure.Figure at 0x1616f070>"
      ]
     },
     "metadata": {},
     "output_type": "display_data"
    }
   ],
   "source": [
    "sns.set(style=\"ticks\")\n",
    "\n",
    "months= ['APR', 'MAY', 'JUN', 'JUL', 'AUG', 'SEP', 'OCT', 'NOV', 'DEC']\n",
    "\n",
    "g = sns.factorplot(\"Month\", \"Amount\", \"Type\", df, kind=\"box\",\n",
    "                   palette=\"muted\", aspect=1.8, x_order=months)\n",
    "\n",
    "g.despine(offset=5, trim=False)\n",
    "g.set_axis_labels(\"Month\", \"Amount\")"
   ]
  },
  {
   "cell_type": "code",
   "execution_count": null,
   "metadata": {
    "collapsed": false
   },
   "outputs": [],
   "source": []
  }
 ],
 "metadata": {
  "kernelspec": {
   "display_name": "Python 2",
   "language": "python",
   "name": "python2"
  },
  "language_info": {
   "codemirror_mode": {
    "name": "ipython",
    "version": 2
   },
   "file_extension": ".py",
   "mimetype": "text/x-python",
   "name": "python",
   "nbconvert_exporter": "python",
   "pygments_lexer": "ipython2",
   "version": "2.7.9"
  }
 },
 "nbformat": 4,
 "nbformat_minor": 0
}
